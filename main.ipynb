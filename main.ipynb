{
 "cells": [
  {
   "cell_type": "code",
   "execution_count": 1,
   "metadata": {},
   "outputs": [],
   "source": [
    "import numpy as np\n",
    "from PIL import Image\n",
    "import os"
   ]
  },
  {
   "cell_type": "code",
   "execution_count": 2,
   "metadata": {},
   "outputs": [],
   "source": [
    "def get_image(image_path):\n",
    "    image = Image.open(image_path, \"r\")\n",
    "    width, height = image.size\n",
    "    pixel_values = list(image.getdata())\n",
    "    if image.mode == \"RGB\":\n",
    "        shape=(width, height, 3)\n",
    "    elif image.mode == \"L\" or image.mode == \"1\":\n",
    "        shape=(width, height)\n",
    "    else:\n",
    "        print(\"Unknown mode: %s\" % image.mode)\n",
    "        return None\n",
    "    pixel_values = np.array(pixel_values).reshape((shape))\n",
    "    return pixel_values"
   ]
  },
  {
   "cell_type": "code",
   "execution_count": 3,
   "metadata": {},
   "outputs": [],
   "source": [
    "def zigzag_to_array(matrix):\n",
    "    rows, cols = len(matrix), len(matrix[0])\n",
    "    result = []\n",
    "    for i in range(rows + cols - 1):\n",
    "        if i % 2 == 0:\n",
    "            row = 0 if i < cols else i - cols + 1\n",
    "            col = i if i < cols else cols - 1\n",
    "            while col >= 0 and row < rows:\n",
    "                result.append(matrix[row][col])\n",
    "                row += 1\n",
    "                col -= 1\n",
    "        else:\n",
    "            col = 0 if i < rows else i - rows + 1\n",
    "            row = i if i < rows else rows - 1\n",
    "            while row >= 0 and col < cols:\n",
    "                result.append(matrix[row][col])\n",
    "                col += 1\n",
    "                row -= 1\n",
    "    return result\n"
   ]
  },
  {
   "cell_type": "code",
   "execution_count": 4,
   "metadata": {},
   "outputs": [],
   "source": [
    "def zigzag_to_matrix(result, rows, cols):\n",
    "    matrix = [[0 for _ in range(cols)] for _ in range(rows)]\n",
    "    index = 0\n",
    "    for i in range(rows + cols - 1):\n",
    "        if i % 2 == 0:\n",
    "            row = 0 if i < cols else i - cols + 1\n",
    "            col = i if i < cols else cols - 1\n",
    "            while col >= 0 and row < rows:\n",
    "                matrix[row][col] = result[index]\n",
    "                index += 1\n",
    "                row += 1\n",
    "                col -= 1\n",
    "        else:\n",
    "            col = 0 if i < rows else i - rows + 1\n",
    "            row = i if i < rows else rows - 1\n",
    "            while row >= 0 and col < cols:\n",
    "                matrix[row][col] = result[index]\n",
    "                index += 1\n",
    "                col += 1\n",
    "                row -= 1\n",
    "    return matrix"
   ]
  },
  {
   "cell_type": "code",
   "execution_count": 5,
   "metadata": {},
   "outputs": [],
   "source": [
    "def row_by_row_to_array(matrix):\n",
    "    result = []\n",
    "    for i in range(len(matrix)):\n",
    "        for j in range(len(matrix[i])):\n",
    "            result.append(matrix[i][j])\n",
    "    return result"
   ]
  },
  {
   "cell_type": "code",
   "execution_count": 6,
   "metadata": {},
   "outputs": [],
   "source": [
    "def row_by_row_to_matrix(result, rows, cols):\n",
    "    matrix = [[0 for _ in range(cols)] for _ in range(rows)]\n",
    "    index = 0\n",
    "    for i in range(rows):\n",
    "        for j in range(cols):\n",
    "            matrix[i][j] = result[index]\n",
    "            index += 1\n",
    "    return matrix"
   ]
  },
  {
   "cell_type": "code",
   "execution_count": 7,
   "metadata": {},
   "outputs": [],
   "source": [
    "def col_by_col_to_array(matrix):\n",
    "    result = []\n",
    "    for i in range(len(matrix[0])):\n",
    "        for j in range(len(matrix)):\n",
    "            result.append(matrix[j][i])\n",
    "    return result"
   ]
  },
  {
   "cell_type": "code",
   "execution_count": 8,
   "metadata": {},
   "outputs": [],
   "source": [
    "def col_by_col_to_matrix(result, rows, cols):\n",
    "    matrix = [[0 for _ in range(cols)] for _ in range(rows)]\n",
    "    index = 0\n",
    "    for i in range(cols):\n",
    "        for j in range(rows):\n",
    "            matrix[j][i] = result[index]\n",
    "            index += 1\n",
    "    return matrix"
   ]
  },
  {
   "cell_type": "code",
   "execution_count": 9,
   "metadata": {},
   "outputs": [],
   "source": [
    "def bw_compress(arr):\n",
    "    result = []\n",
    "    flag = 255\n",
    "    count = 0\n",
    "\n",
    "    for i in range(len(arr)):\n",
    "        if(arr[i] == flag):\n",
    "            count += 1\n",
    "        else:\n",
    "            result.append(count)\n",
    "            flag = arr[i]\n",
    "            count = 1\n",
    "    if(arr[i] == flag):\n",
    "        result.append(count)\n",
    "        flag = arr[i]\n",
    "        count = 1\n",
    "    return result"
   ]
  },
  {
   "cell_type": "code",
   "execution_count": 10,
   "metadata": {},
   "outputs": [],
   "source": [
    "def color_compress(arr):\n",
    "    result = []\n",
    "    count = 1\n",
    "\n",
    "    for i in range(1, len(arr)):\n",
    "        if(arr[i] == arr[i-1]):\n",
    "            count += 1\n",
    "        else:\n",
    "            if(count != 1):\n",
    "                result.append(255)\n",
    "                result.append(count)\n",
    "            result.append(arr[i-1])\n",
    "            count = 1\n",
    "    if(arr[i] == arr[i-1]):\n",
    "        result.append(255)\n",
    "        result.append(count)\n",
    "    result.append(arr[i])\n",
    "    return result"
   ]
  },
  {
   "cell_type": "code",
   "execution_count": 11,
   "metadata": {},
   "outputs": [],
   "source": [
    "def bw_decompress(compressed_data):\n",
    "    color = 255\n",
    "    decompressed_data = []\n",
    "    for i in compressed_data:\n",
    "        for j in range(i):\n",
    "            decompressed_data.append(color)\n",
    "            \n",
    "        color = ((color + 1) % 2 ) * 255\n",
    "    \n",
    "    return decompressed_data"
   ]
  },
  {
   "cell_type": "code",
   "execution_count": 12,
   "metadata": {},
   "outputs": [],
   "source": [
    "def color_decompress(compressed_data):\n",
    "    decompressed_data = []\n",
    "    i = 0\n",
    "    while  i < len(compressed_data)-2:\n",
    "        if(compressed_data[i] == 255):\n",
    "            for _ in range(compressed_data[i+1]):\n",
    "                decompressed_data.append(compressed_data[i+2])\n",
    "            i += 2\n",
    "        else:\n",
    "            decompressed_data.append(compressed_data[i])\n",
    "        i += 1\n",
    "    if(i == len(compressed_data) - 2):\n",
    "        decompressed_data.append(compressed_data[-2])\n",
    "    decompressed_data.append(compressed_data[-1])\n",
    "\n",
    "    return decompressed_data"
   ]
  },
  {
   "cell_type": "code",
   "execution_count": 13,
   "metadata": {},
   "outputs": [],
   "source": [
    "traversal_types = {\"row_by_row\": (row_by_row_to_array, row_by_row_to_matrix),\n",
    "                   \"col_by_col\": (col_by_col_to_array, col_by_col_to_matrix), \n",
    "                   \"zigzag\": (zigzag_to_array, zigzag_to_matrix)}\n",
    "MONOCHROME_FILE_NAME = \"monochrome.bmp\"\n",
    "GRAYSCALE_FILE_NAME = \"grayscale.bmp\"\n",
    "RGB_FILE_NAME = \"colortable.bmp\"\n",
    "INPUT_PATH = \"assets/input/\"\n",
    "COMPRESSED_PATH = \"assets/compressed/\"\n",
    "DECOMPRESSED_PATH = \"assets/decompressed/\"\n"
   ]
  },
  {
   "cell_type": "code",
   "execution_count": 14,
   "metadata": {},
   "outputs": [],
   "source": [
    "def monochrome_simulation():\n",
    "    monochrome_image = get_image(INPUT_PATH + MONOCHROME_FILE_NAME)\n",
    "\n",
    "    for name, traversal in traversal_types.items():\n",
    "        traversal_to_array, traversal_to_matrix = traversal\n",
    "        monochrome_arr = traversal_to_array(monochrome_image)\n",
    "        monochrome_compressed = bw_compress(monochrome_arr)\n",
    "        with open(COMPRESSED_PATH+MONOCHROME_FILE_NAME[:-4]+\"_\"+name+\".rle\", \"w\") as f:\n",
    "            s = \" \".join(map(str, monochrome_image.shape)) + \\\n",
    "                \"\\n\" + \" \".join(map(str, monochrome_compressed))\n",
    "            f.write(s)\n",
    "        with open(COMPRESSED_PATH+MONOCHROME_FILE_NAME[:-4]+\"_\"+name+\".rle\", \"r\") as f:\n",
    "            header = list(map(int, f.readline().strip().split(\" \")))\n",
    "            monochrome_compressed_from_file = list(\n",
    "                map(int, f.readline().strip().split(\" \")))\n",
    "\n",
    "            monochrome_decompressed_from_file = bw_decompress(\n",
    "                monochrome_compressed_from_file)\n",
    "            monochrome_decompressed_matrix = traversal_to_matrix(\n",
    "                monochrome_decompressed_from_file, header[0], header[1])\n",
    "\n",
    "            image = Image.fromarray(np.array(\n",
    "                monochrome_decompressed_matrix, dtype=np.uint8).reshape((header[1], header[0])))\n",
    "\n",
    "            image.save(DECOMPRESSED_PATH +\n",
    "                       MONOCHROME_FILE_NAME[:-4]+\"_\"+name+\".bmp\")\n",
    "        comprasion_ratio = round(os.path.getsize(COMPRESSED_PATH+MONOCHROME_FILE_NAME[:-4]+\"_\"+name+\".rle\") / os.path.getsize(INPUT_PATH + MONOCHROME_FILE_NAME),3)\n",
    "        print(\"Comprasion ratio of \" + name + \" is \", comprasion_ratio)\n"
   ]
  },
  {
   "cell_type": "code",
   "execution_count": 15,
   "metadata": {},
   "outputs": [],
   "source": [
    "def grayscale_simulation():\n",
    "    grayscale_image = get_image(INPUT_PATH + GRAYSCALE_FILE_NAME)\n",
    "\n",
    "    for name, traversal in traversal_types.items():\n",
    "        traversal_to_array, traversal_to_matrix = traversal\n",
    "        grayscale_arr = traversal_to_array(grayscale_image)\n",
    "        for i in range(len(grayscale_arr)):\n",
    "            if (grayscale_arr[i] == 255):\n",
    "                grayscale_arr[i] = 254\n",
    "        grayscale_compressed = color_compress(grayscale_arr)\n",
    "\n",
    "        with open(COMPRESSED_PATH+GRAYSCALE_FILE_NAME[:-4]+\"_\"+name+\".rle\", \"w\") as f:\n",
    "            s = \" \".join(map(str, grayscale_image.shape)) + \\\n",
    "                \"\\n\" + \" \".join(map(str, grayscale_compressed))\n",
    "            f.write(s)\n",
    "        with open(COMPRESSED_PATH+GRAYSCALE_FILE_NAME[:-4]+\"_\"+name+\".rle\", \"r\") as f:\n",
    "            header = list(map(int, f.readline().strip().split(\" \")))\n",
    "            grayscale_compressed_from_file = list(\n",
    "                map(int, f.readline().strip().split(\" \")))\n",
    "\n",
    "            grayscale_decompressed_from_file = color_decompress(\n",
    "                grayscale_compressed_from_file)\n",
    "            grayscale_decompressed_matrix = traversal_to_matrix(\n",
    "                grayscale_decompressed_from_file, header[0], header[1])\n",
    "\n",
    "            image = Image.fromarray(np.array(\n",
    "                grayscale_decompressed_matrix, dtype=np.uint8).reshape((header[1], header[0])))\n",
    "\n",
    "            image.save(DECOMPRESSED_PATH +\n",
    "                       GRAYSCALE_FILE_NAME[:-4]+\"_\"+name+\".bmp\")\n",
    "            \n",
    "        comprasion_ratio = round(os.path.getsize(COMPRESSED_PATH+GRAYSCALE_FILE_NAME[:-4]+\"_\"+name+\".rle\") / os.path.getsize(INPUT_PATH + GRAYSCALE_FILE_NAME),3)\n",
    "        print(\"Comprasion ratio of \" + name + \" is \", comprasion_ratio)\n"
   ]
  },
  {
   "cell_type": "code",
   "execution_count": 16,
   "metadata": {},
   "outputs": [],
   "source": [
    "def rgb_simulation():\n",
    "    rgb_image = get_image(INPUT_PATH + RGB_FILE_NAME)\n",
    "\n",
    "    for name, traversal in traversal_types.items():\n",
    "        traversal_to_array, traversal_to_matrix = traversal\n",
    "        rgb_channels = np.transpose(rgb_image, (2, 0, 1))\n",
    "        rgb_compressed_arr = []\n",
    "        s = \" \".join(map(str, rgb_image.shape))\n",
    "\n",
    "        for i in range(len(rgb_channels)):\n",
    "            rgb_arr = traversal_to_array(rgb_channels[i])\n",
    "            for i in range(len(rgb_arr)):\n",
    "                if (rgb_arr[i] == 255):\n",
    "                    rgb_arr[i] = 254\n",
    "            rgb_compressed_arr.append(color_compress(rgb_arr))\n",
    "            s += \"\\n\" + \" \".join(map(str, rgb_compressed_arr[-1]))\n",
    "        with open(COMPRESSED_PATH+RGB_FILE_NAME[:-4]+\"_\"+name+\".rle\", \"w\") as f:\n",
    "            f.write(s)\n",
    "        \n",
    "        with open(COMPRESSED_PATH+RGB_FILE_NAME[:-4]+\"_\"+name+\".rle\", \"r\") as f:\n",
    "            header = list(map(int, f.readline().strip().split(\" \")))\n",
    "            channels = [None] * 3\n",
    "            for i in range(len(channels)):\n",
    "                line = f.readline().strip().split(\" \")\n",
    "                rgb_compressed_from_file = list(\n",
    "                    map(int, line))\n",
    "\n",
    "                rgb_decompressed_from_file = color_decompress(\n",
    "                    rgb_compressed_from_file)\n",
    "                channels[i] = traversal_to_matrix(\n",
    "                    rgb_decompressed_from_file, header[0], header[1])\n",
    "            channels = np.asarray(channels)\n",
    "            channels = np.transpose(channels, (1, 2, 0))\n",
    "            image = Image.fromarray(np.array(\n",
    "                 channels, dtype=np.uint8).reshape((header[1], header[0], header[2])))\n",
    "\n",
    "            image.save(DECOMPRESSED_PATH +\n",
    "                    RGB_FILE_NAME[:-4]+\"_\"+name+\".bmp\")\n",
    "        \n",
    "        comprasion_ratio = round(os.path.getsize(COMPRESSED_PATH+RGB_FILE_NAME[:-4]+\"_\"+name+\".rle\") / os.path.getsize(INPUT_PATH + RGB_FILE_NAME),3)\n",
    "        print(\"Comprasion ratio of \" + name + \" is \", comprasion_ratio)\n"
   ]
  },
  {
   "cell_type": "code",
   "execution_count": 17,
   "metadata": {},
   "outputs": [
    {
     "name": "stdout",
     "output_type": "stream",
     "text": [
      "Comprasion ratio of row_by_row is  0.533\n",
      "Comprasion ratio of col_by_col is  4.763\n",
      "Comprasion ratio of zigzag is  4.719\n"
     ]
    }
   ],
   "source": [
    "monochrome_simulation()"
   ]
  },
  {
   "cell_type": "code",
   "execution_count": 18,
   "metadata": {},
   "outputs": [
    {
     "name": "stdout",
     "output_type": "stream",
     "text": [
      "Comprasion ratio of row_by_row is  0.935\n",
      "Comprasion ratio of col_by_col is  1.932\n",
      "Comprasion ratio of zigzag is  1.933\n"
     ]
    }
   ],
   "source": [
    "grayscale_simulation()"
   ]
  },
  {
   "cell_type": "code",
   "execution_count": 19,
   "metadata": {},
   "outputs": [
    {
     "name": "stdout",
     "output_type": "stream",
     "text": [
      "Comprasion ratio of row_by_row is  3.17\n",
      "Comprasion ratio of col_by_col is  3.047\n",
      "Comprasion ratio of zigzag is  3.046\n"
     ]
    }
   ],
   "source": [
    "rgb_simulation()"
   ]
  }
 ],
 "metadata": {
  "kernelspec": {
   "display_name": "Python 3",
   "language": "python",
   "name": "python3"
  },
  "language_info": {
   "codemirror_mode": {
    "name": "ipython",
    "version": 3
   },
   "file_extension": ".py",
   "mimetype": "text/x-python",
   "name": "python",
   "nbconvert_exporter": "python",
   "pygments_lexer": "ipython3",
   "version": "3.8.9"
  }
 },
 "nbformat": 4,
 "nbformat_minor": 2
}
